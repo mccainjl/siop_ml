{
 "cells": [
  {
   "cell_type": "markdown",
   "metadata": {},
   "source": [
    "# Assessing Model Accuracy\n",
    "\n",
    "The purpose of this notebook is to build on an example notebook, and add test holdouts and to show model evaluation.\n",
    "\n",
    "At the end of this notebook, we can see how much better or worse than guessing the mean for input would be.  For this basic model, it performs roughly at the level of guessing the mean.  This notebook is uesful for demonstrating the use of train_test_split, which can be used for setting aside a test set in Python, and for the use of a `.score()` method, which exists for most models to demonstrate the accuracy against a holdout set.\n"
   ]
  },
  {
   "cell_type": "code",
   "execution_count": 1,
   "metadata": {},
   "outputs": [],
   "source": [
    "import random\n",
    "import pandas as pd\n",
    "import numpy as np\n",
    "\n",
    "from sklearn.feature_extraction.text import TfidfVectorizer\n",
    "from sklearn.model_selection import train_test_split\n",
    "from sklearn.metrics import accuracy_score\n",
    "\n",
    "from sklearn.linear_model import Ridge"
   ]
  },
  {
   "cell_type": "code",
   "execution_count": 2,
   "metadata": {
    "scrolled": false
   },
   "outputs": [
    {
     "data": {
      "text/html": [
       "<div>\n",
       "<style scoped>\n",
       "    .dataframe tbody tr th:only-of-type {\n",
       "        vertical-align: middle;\n",
       "    }\n",
       "\n",
       "    .dataframe tbody tr th {\n",
       "        vertical-align: top;\n",
       "    }\n",
       "\n",
       "    .dataframe thead th {\n",
       "        text-align: right;\n",
       "    }\n",
       "</style>\n",
       "<table border=\"1\" class=\"dataframe\">\n",
       "  <thead>\n",
       "    <tr style=\"text-align: right;\">\n",
       "      <th></th>\n",
       "      <th>Respondent_ID</th>\n",
       "      <th>open_ended_1</th>\n",
       "      <th>open_ended_2</th>\n",
       "      <th>open_ended_3</th>\n",
       "      <th>open_ended_4</th>\n",
       "      <th>open_ended_5</th>\n",
       "      <th>E_Scale_score</th>\n",
       "      <th>A_Scale_score</th>\n",
       "      <th>O_Scale_score</th>\n",
       "      <th>C_Scale_score</th>\n",
       "      <th>N_Scale_score</th>\n",
       "    </tr>\n",
       "  </thead>\n",
       "  <tbody>\n",
       "    <tr>\n",
       "      <th>0</th>\n",
       "      <td>10446116527</td>\n",
       "      <td>I would change my vacation week, because I am ...</td>\n",
       "      <td>I would reach out to my boss and ask him or he...</td>\n",
       "      <td>I would not go. I am a not a social person. I ...</td>\n",
       "      <td>I would ask my manager why he/she gave me such...</td>\n",
       "      <td>I would find this experience super enjoyable. ...</td>\n",
       "      <td>2.250000</td>\n",
       "      <td>3.750000</td>\n",
       "      <td>3.166667</td>\n",
       "      <td>3.750000</td>\n",
       "      <td>2.916667</td>\n",
       "    </tr>\n",
       "    <tr>\n",
       "      <th>1</th>\n",
       "      <td>10440100535</td>\n",
       "      <td>I would talk to my colleague and see if they w...</td>\n",
       "      <td>I would continue to work on the project that w...</td>\n",
       "      <td>I would talk to my colleague and try to talk t...</td>\n",
       "      <td>I would feel upset about the negative feedback...</td>\n",
       "      <td>I would find this experience enjoyable. I feel...</td>\n",
       "      <td>4.666667</td>\n",
       "      <td>4.416667</td>\n",
       "      <td>4.583333</td>\n",
       "      <td>5.000000</td>\n",
       "      <td>1.333333</td>\n",
       "    </tr>\n",
       "    <tr>\n",
       "      <th>2</th>\n",
       "      <td>10462850071</td>\n",
       "      <td>I would feel upset because perhaps I already b...</td>\n",
       "      <td>I would start working on the project now and g...</td>\n",
       "      <td>I would feel guilty about thinking about not g...</td>\n",
       "      <td>I would feel really defensive about it. I woul...</td>\n",
       "      <td>I would find it enjoyable because I would be r...</td>\n",
       "      <td>2.250000</td>\n",
       "      <td>4.750000</td>\n",
       "      <td>4.083333</td>\n",
       "      <td>4.666667</td>\n",
       "      <td>2.166667</td>\n",
       "    </tr>\n",
       "  </tbody>\n",
       "</table>\n",
       "</div>"
      ],
      "text/plain": [
       "   Respondent_ID                                       open_ended_1  \\\n",
       "0    10446116527  I would change my vacation week, because I am ...   \n",
       "1    10440100535  I would talk to my colleague and see if they w...   \n",
       "2    10462850071  I would feel upset because perhaps I already b...   \n",
       "\n",
       "                                        open_ended_2  \\\n",
       "0  I would reach out to my boss and ask him or he...   \n",
       "1  I would continue to work on the project that w...   \n",
       "2  I would start working on the project now and g...   \n",
       "\n",
       "                                        open_ended_3  \\\n",
       "0  I would not go. I am a not a social person. I ...   \n",
       "1  I would talk to my colleague and try to talk t...   \n",
       "2  I would feel guilty about thinking about not g...   \n",
       "\n",
       "                                        open_ended_4  \\\n",
       "0  I would ask my manager why he/she gave me such...   \n",
       "1  I would feel upset about the negative feedback...   \n",
       "2  I would feel really defensive about it. I woul...   \n",
       "\n",
       "                                        open_ended_5  E_Scale_score  \\\n",
       "0  I would find this experience super enjoyable. ...       2.250000   \n",
       "1  I would find this experience enjoyable. I feel...       4.666667   \n",
       "2  I would find it enjoyable because I would be r...       2.250000   \n",
       "\n",
       "   A_Scale_score  O_Scale_score  C_Scale_score  N_Scale_score  \n",
       "0       3.750000       3.166667       3.750000       2.916667  \n",
       "1       4.416667       4.583333       5.000000       1.333333  \n",
       "2       4.750000       4.083333       4.666667       2.166667  "
      ]
     },
     "execution_count": 2,
     "metadata": {},
     "output_type": "execute_result"
    }
   ],
   "source": [
    "# Import the data to a df\n",
    "df = pd.read_csv('data/siop_ml_train_participant.csv')\n",
    "\n",
    "# Confirm that the data has been imported and is formatted correctly\n",
    "df.head(3)\n"
   ]
  },
  {
   "cell_type": "markdown",
   "metadata": {},
   "source": [
    "Use these two to set which facet you're attempting to predict from which input."
   ]
  },
  {
   "cell_type": "code",
   "execution_count": 3,
   "metadata": {},
   "outputs": [],
   "source": [
    "training_columns = ['open_ended_1', 'open_ended_2', 'open_ended_3', 'open_ended_4', 'open_ended_5']\n",
    "criterion_columns = ['E_Scale_score', 'A_Scale_score', 'O_Scale_score', 'C_Scale_score', 'N_Scale_score']"
   ]
  },
  {
   "cell_type": "code",
   "execution_count": 4,
   "metadata": {},
   "outputs": [],
   "source": [
    "def simple_prep (df):\n",
    "    for col in training_columns:\n",
    "        \n",
    "        # Lowercase it all\n",
    "        df[col].str.lower()\n",
    "    \n",
    "        # Remove non-alphanumeric characters\n",
    "        df[col].replace('[^a-zA-Z0-9]', ' ', regex = True)\n",
    "    \n",
    "    return df\n",
    "\n",
    "prepped_data = simple_prep (df)"
   ]
  },
  {
   "cell_type": "code",
   "execution_count": 5,
   "metadata": {
    "scrolled": true
   },
   "outputs": [
    {
     "name": "stdout",
     "output_type": "stream",
     "text": [
      "(761, 11)\n",
      "(327, 11)\n"
     ]
    }
   ],
   "source": [
    "# Generate our testing and training sets and show their relative sizes\n",
    "train, test = train_test_split(prepped_data, test_size=0.3)\n",
    "print(train.shape)\n",
    "print(test.shape)"
   ]
  },
  {
   "cell_type": "markdown",
   "metadata": {},
   "source": [
    "When hosted in GitHub, this sample will only show the most recent run, however you can clone this repository to run it locally and sample the results yourself.  The results for this model are not great, but better than guessing.  Standard deviation is provided for comparison."
   ]
  },
  {
   "cell_type": "code",
   "execution_count": 6,
   "metadata": {},
   "outputs": [],
   "source": [
    "predictor = 'open_ended_2'\n",
    "regressor = 'C_Scale_score'\n"
   ]
  },
  {
   "cell_type": "code",
   "execution_count": 7,
   "metadata": {},
   "outputs": [
    {
     "name": "stdout",
     "output_type": "stream",
     "text": [
      "['10', '100', '30', '40', '45', '8n', '90', '95', 'abandon', 'abilities']\n"
     ]
    }
   ],
   "source": [
    "def vectorize_data (df_train, df_test, predictor, regressor):\n",
    "    # Set the TF-IDF vectorization settings\n",
    "    vectorizer = TfidfVectorizer(min_df=1)\n",
    "    \n",
    "    # Convert text into vectors\n",
    "    X_train = vectorizer.fit_transform(df_train[predictor]) \n",
    "\n",
    "    # Also convert test data into vectors\n",
    "    X_test = vectorizer.transform(df_test[predictor]) \n",
    "    \n",
    "    # Set the criterion values for the training set\n",
    "    y_train = df_train[regressor]\n",
    "\n",
    "    # Set the criterion values for the test set\n",
    "    y_test = df_test[regressor]\n",
    "    \n",
    "    # return the vectorizer object so we can use it later for evaluation\n",
    "    return X_train, X_test, y_train, y_test, vectorizer\n",
    "  \n",
    "X_train, X_test, y_train, y_test, vectorizer = vectorize_data (train, test, predictor, regressor)\n",
    "\n",
    "feature_names = vectorizer.get_feature_names()\n",
    "print(feature_names[:10])"
   ]
  },
  {
   "cell_type": "code",
   "execution_count": 9,
   "metadata": {
    "scrolled": true
   },
   "outputs": [
    {
     "name": "stdout",
     "output_type": "stream",
     "text": [
      "Score for pred C_Scale_score from open_ended_2 is -0.021640579428152007\n"
     ]
    }
   ],
   "source": [
    "# Utilizing ridge regression\n",
    "mod = Ridge(alpha=1.0, random_state=42)\n",
    "\n",
    "# Fit the model using the our training data and criterion column\n",
    "mod.fit(X_train, y_train)\n",
    "\n",
    "print('Score for pred {0} from {1} is {2}'.format(regressor, predictor, mod.score(X_test, y_test)))\n"
   ]
  }
 ],
 "metadata": {
  "kernelspec": {
   "display_name": "Python 3",
   "language": "python",
   "name": "python3"
  },
  "language_info": {
   "codemirror_mode": {
    "name": "ipython",
    "version": 3
   },
   "file_extension": ".py",
   "mimetype": "text/x-python",
   "name": "python",
   "nbconvert_exporter": "python",
   "pygments_lexer": "ipython3",
   "version": "3.5.1"
  }
 },
 "nbformat": 4,
 "nbformat_minor": 2
}
