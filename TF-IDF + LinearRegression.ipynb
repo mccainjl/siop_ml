{
 "cells": [
  {
   "cell_type": "markdown",
   "metadata": {},
   "source": [
    "# TF-IDF and Linear Regression Demo\n",
    "https://www.oreilly.com/library/view/feature-engineering-for/9781491953235/ch04.html\n",
    "\n",
    "Proof of concept for one possible approach, using TF-IDF and ridge regression.\n",
    "\n",
    "This approach uses no engineered features, and exclusively bases the regression model on the presence or absence of certain words in the respondent's answer to a particular question.  We are not considering other responses, meaning this model is attempting to predict one trait from a single response.  In a final product, we would leverage all of the responses for determining traits.\n",
    "\n",
    "This notebook is for demonstrating the high-level concepts around converting text into features which can be used for using regression."
   ]
  },
  {
   "cell_type": "code",
   "execution_count": 1,
   "metadata": {},
   "outputs": [],
   "source": [
    "import random\n",
    "import pandas as pd\n",
    "\n",
    "from sklearn.feature_extraction.text import TfidfVectorizer\n",
    "from sklearn.linear_model import Ridge\n"
   ]
  },
  {
   "cell_type": "code",
   "execution_count": 2,
   "metadata": {},
   "outputs": [
    {
     "data": {
      "text/html": [
       "<div>\n",
       "<style scoped>\n",
       "    .dataframe tbody tr th:only-of-type {\n",
       "        vertical-align: middle;\n",
       "    }\n",
       "\n",
       "    .dataframe tbody tr th {\n",
       "        vertical-align: top;\n",
       "    }\n",
       "\n",
       "    .dataframe thead th {\n",
       "        text-align: right;\n",
       "    }\n",
       "</style>\n",
       "<table border=\"1\" class=\"dataframe\">\n",
       "  <thead>\n",
       "    <tr style=\"text-align: right;\">\n",
       "      <th></th>\n",
       "      <th>open_ended_1</th>\n",
       "      <th>E_Scale_score</th>\n",
       "    </tr>\n",
       "  </thead>\n",
       "  <tbody>\n",
       "    <tr>\n",
       "      <th>0</th>\n",
       "      <td>I would change my vacation week, because I am ...</td>\n",
       "      <td>2.250000</td>\n",
       "    </tr>\n",
       "    <tr>\n",
       "      <th>1</th>\n",
       "      <td>I would talk to my colleague and see if they w...</td>\n",
       "      <td>4.666667</td>\n",
       "    </tr>\n",
       "    <tr>\n",
       "      <th>2</th>\n",
       "      <td>I would feel upset because perhaps I already b...</td>\n",
       "      <td>2.250000</td>\n",
       "    </tr>\n",
       "  </tbody>\n",
       "</table>\n",
       "</div>"
      ],
      "text/plain": [
       "                                        open_ended_1  E_Scale_score\n",
       "0  I would change my vacation week, because I am ...       2.250000\n",
       "1  I would talk to my colleague and see if they w...       4.666667\n",
       "2  I would feel upset because perhaps I already b...       2.250000"
      ]
     },
     "execution_count": 2,
     "metadata": {},
     "output_type": "execute_result"
    }
   ],
   "source": [
    "# Import the data to a df\n",
    "train = pd.read_csv('data/siop_ml_train_participant.csv')\n",
    "\n",
    "# Limit the results to a single answer / score combination for demonstration\n",
    "train = train.drop(['Respondent_ID', 'open_ended_2', 'open_ended_3', 'open_ended_4', 'open_ended_5', \n",
    "         'A_Scale_score', 'O_Scale_score', 'C_Scale_score', 'N_Scale_score'], axis=1)\n",
    "\n",
    "# Confirm that the data has been imported and is formatted correctly\n",
    "train.head(3)\n"
   ]
  },
  {
   "cell_type": "code",
   "execution_count": 3,
   "metadata": {},
   "outputs": [],
   "source": [
    "def simple_prep (df, column):\n",
    "    # Lowercase it all\n",
    "    df[column].str.lower()\n",
    "    \n",
    "    # Remove non-alphanumeric characters\n",
    "    df[column].replace('[^a-zA-Z0-9]', ' ', regex = True)\n",
    "    \n",
    "    return df\n",
    "\n",
    "prepped_data = simple_prep (train, 'open_ended_1')\n"
   ]
  },
  {
   "cell_type": "code",
   "execution_count": 4,
   "metadata": {},
   "outputs": [],
   "source": [
    "def vectorize_training_data (df, column):\n",
    "    # Set the TF-IDF vectorization settings\n",
    "    vectorizer = TfidfVectorizer(min_df=5)\n",
    "    \n",
    "    # Convert text into vectors\n",
    "    X = vectorizer.fit_transform(df[column]) \n",
    "    \n",
    "    # return the vectorizer object so we can use it later for evaluation\n",
    "    return X, vectorizer\n",
    "    \n",
    "X, vectorizer = vectorize_training_data (prepped_data, 'open_ended_1')\n"
   ]
  },
  {
   "cell_type": "code",
   "execution_count": 5,
   "metadata": {},
   "outputs": [
    {
     "data": {
      "text/plain": [
       "Ridge(alpha=1.0, copy_X=True, fit_intercept=True, max_iter=None,\n",
       "   normalize=False, random_state=241, solver='auto', tol=0.001)"
      ]
     },
     "execution_count": 5,
     "metadata": {},
     "output_type": "execute_result"
    }
   ],
   "source": [
    "# Utilizing ridge regression for this PoC\n",
    "mod = Ridge(alpha=1.0, random_state=241)\n",
    "\n",
    "# Set the criterion column so we can fit the model\n",
    "y = train['E_Scale_score']\n",
    "\n",
    "# Fit the model using the our training data and criterion column\n",
    "mod.fit(X, y) \n"
   ]
  },
  {
   "cell_type": "markdown",
   "metadata": {},
   "source": [
    "###  Viewing Sample Results\n",
    "\n",
    "Typically the accuracy of a model would be assessed by utilizing hold-out groups and training on x% of the data, then testing on the remaining portion.  Multiple 'folds' of this evaluation can be performed by randomly assigning the data to be in training or testing set.  This multiple folding process is known as Cross-Validation.\n",
    "\n",
    "For this model we are simply proofing the idea, and so we are assessing the accuracy of the model by looking at a random sample row and using the model to classify the test row."
   ]
  },
  {
   "cell_type": "code",
   "execution_count": 6,
   "metadata": {},
   "outputs": [],
   "source": [
    "def sample_results (row_num, vectorizer):\n",
    "    print ('User input for row [{0}]: {1}\\n'.format(row_num, train['open_ended_1'][row_num]))\n",
    "    print ('Actual Score: \\t\\t{0}'.format(train['E_Scale_score'][row_num].round(2)))\n",
    "    \n",
    "    # Use the same data transformation process on the sample row provided\n",
    "    sample_test_data = vectorizer.transform([train['open_ended_1'][row_num]]) \n",
    "    \n",
    "    # Run that transformed vector against the model by using .predict()\n",
    "    rslt = mod.predict(sample_test_data)\n",
    "    \n",
    "    print ('Predicted Score: \\t{0}'.format(rslt[0].round(2)))\n",
    "    print ('\\nCriterion StdDev: \\t{0}'.format(train['E_Scale_score'].std().round(2)))\n"
   ]
  },
  {
   "cell_type": "markdown",
   "metadata": {},
   "source": [
    "When hosted in GitHub, this sample will only show the most recent run, however you can clone this repository to run it locally and sample the results yourself.  The results for this model are not great, but better than guessing.  Standard deviation is provided for comparison."
   ]
  },
  {
   "cell_type": "code",
   "execution_count": 21,
   "metadata": {},
   "outputs": [
    {
     "name": "stdout",
     "output_type": "stream",
     "text": [
      "User input for row [637]: I would take a look at my own schedule to see if it was more mobile. As it is likely that is is, I would change my schedule.  If I could not change it, I would try to work out a compromise. If that failed, I would ask my supervisor who requested first.\n",
      "\n",
      "Actual Score: \t\t1.92\n",
      "Predicted Score: \t3.2\n",
      "\n",
      "Criterion StdDev: \t0.79\n"
     ]
    }
   ],
   "source": [
    "# To see results for a specific row, change this value to a row index\n",
    "test_row_index = random.randint(0, len(train['open_ended_1']))\n",
    "\n",
    "sample_results (test_row_index, vectorizer)\n"
   ]
  }
 ],
 "metadata": {
  "kernelspec": {
   "display_name": "Python 3",
   "language": "python",
   "name": "python3"
  },
  "language_info": {
   "codemirror_mode": {
    "name": "ipython",
    "version": 3
   },
   "file_extension": ".py",
   "mimetype": "text/x-python",
   "name": "python",
   "nbconvert_exporter": "python",
   "pygments_lexer": "ipython3",
   "version": "3.5.1"
  }
 },
 "nbformat": 4,
 "nbformat_minor": 2
}
