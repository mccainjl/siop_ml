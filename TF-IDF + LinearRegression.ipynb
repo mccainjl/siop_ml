{
 "cells": [
  {
   "cell_type": "markdown",
   "metadata": {},
   "source": [
    "# TF-IDF and Linear Regression Demo / PoC\n",
    "https://stats.stackexchange.com/questions/286125/how-to-handle-text-data-in-regression\n",
    "\n",
    "This is a proof of concept page for the model"
   ]
  },
  {
   "cell_type": "code",
   "execution_count": 1,
   "metadata": {},
   "outputs": [],
   "source": [
    "import random\n",
    "import pandas as pd\n",
    "\n",
    "from sklearn.feature_extraction.text import TfidfVectorizer\n",
    "from sklearn.linear_model import Ridge"
   ]
  },
  {
   "cell_type": "code",
   "execution_count": 2,
   "metadata": {},
   "outputs": [
    {
     "data": {
      "text/html": [
       "<div>\n",
       "<style scoped>\n",
       "    .dataframe tbody tr th:only-of-type {\n",
       "        vertical-align: middle;\n",
       "    }\n",
       "\n",
       "    .dataframe tbody tr th {\n",
       "        vertical-align: top;\n",
       "    }\n",
       "\n",
       "    .dataframe thead th {\n",
       "        text-align: right;\n",
       "    }\n",
       "</style>\n",
       "<table border=\"1\" class=\"dataframe\">\n",
       "  <thead>\n",
       "    <tr style=\"text-align: right;\">\n",
       "      <th></th>\n",
       "      <th>open_ended_1</th>\n",
       "      <th>E_Scale_score</th>\n",
       "    </tr>\n",
       "  </thead>\n",
       "  <tbody>\n",
       "    <tr>\n",
       "      <th>0</th>\n",
       "      <td>I would change my vacation week, because I am ...</td>\n",
       "      <td>2.250000</td>\n",
       "    </tr>\n",
       "    <tr>\n",
       "      <th>1</th>\n",
       "      <td>I would talk to my colleague and see if they w...</td>\n",
       "      <td>4.666667</td>\n",
       "    </tr>\n",
       "    <tr>\n",
       "      <th>2</th>\n",
       "      <td>I would feel upset because perhaps I already b...</td>\n",
       "      <td>2.250000</td>\n",
       "    </tr>\n",
       "  </tbody>\n",
       "</table>\n",
       "</div>"
      ],
      "text/plain": [
       "                                        open_ended_1  E_Scale_score\n",
       "0  I would change my vacation week, because I am ...       2.250000\n",
       "1  I would talk to my colleague and see if they w...       4.666667\n",
       "2  I would feel upset because perhaps I already b...       2.250000"
      ]
     },
     "execution_count": 2,
     "metadata": {},
     "output_type": "execute_result"
    }
   ],
   "source": [
    "# Import the data to a df\n",
    "train = pd.read_csv('data/siop_ml_train_participant.csv')\n",
    "\n",
    "# Limit the results to a single answer / score combination for demonstration\n",
    "train = train.drop(['Respondent_ID', 'open_ended_2', 'open_ended_3', 'open_ended_4', 'open_ended_5', \n",
    "         'A_Scale_score', 'O_Scale_score', 'C_Scale_score', 'N_Scale_score'], axis=1)\n",
    "\n",
    "# Confirm that the data has been imported and is formatted correctly\n",
    "train.head(3)"
   ]
  },
  {
   "cell_type": "code",
   "execution_count": 3,
   "metadata": {},
   "outputs": [],
   "source": [
    "def simple_prep (df, column):\n",
    "    # Lowercase it all\n",
    "    df[column].str.lower()\n",
    "    \n",
    "    # Remove non-alphanumeric characters\n",
    "    df[column].replace('[^a-zA-Z0-9]', ' ', regex = True)\n",
    "    \n",
    "    return df\n",
    "\n",
    "prepped_data = simple_prep (train, 'open_ended_1')"
   ]
  },
  {
   "cell_type": "code",
   "execution_count": 4,
   "metadata": {},
   "outputs": [],
   "source": [
    "def vectorize_training_data (df, column):\n",
    "    # Set the TF-IDF vectorization settings\n",
    "    vectorizer = TfidfVectorizer(min_df=5)\n",
    "    \n",
    "    # Convert text into vectors\n",
    "    X = vectorizer.fit_transform(df[column]) \n",
    "    \n",
    "    # return the vectorizer object so we can use it later for evaluation\n",
    "    return X_tfidf, vectorizer\n",
    "    \n",
    "X, vectorizer = vectorize_training_data (prepped_data, 'open_ended_1')"
   ]
  },
  {
   "cell_type": "code",
   "execution_count": 5,
   "metadata": {},
   "outputs": [
    {
     "data": {
      "text/plain": [
       "Ridge(alpha=1.0, copy_X=True, fit_intercept=True, max_iter=None,\n",
       "   normalize=False, random_state=241, solver='auto', tol=0.001)"
      ]
     },
     "execution_count": 5,
     "metadata": {},
     "output_type": "execute_result"
    }
   ],
   "source": [
    "# Model\n",
    "clf = Ridge(alpha=1.0, random_state=241)\n",
    "\n",
    "# Set the criterion\n",
    "y = train['E_Scale_score']\n",
    "\n",
    "# train model on data\n",
    "clf.fit(X, y) "
   ]
  },
  {
   "cell_type": "code",
   "execution_count": 6,
   "metadata": {},
   "outputs": [
    {
     "name": "stdout",
     "output_type": "stream",
     "text": [
      "User input for row [63]: \n",
      "I would probably not change my plans for vacation because it would cause everyone in my family to have to change their plans as well if the plans and reservations, as well as time requested off of work have already been approved by their supervisors and other arrangements made. I would explain that my family has already made arrangements with their employers, schools, etc. This would be something very important to me, because I do not make last minute vacation plans. I plan well in advance.\n",
      "\n",
      "Actual Score: \n",
      "3.0833333332999997\n",
      "\n",
      "Predicted Score: \n",
      "3.374346670834718\n"
     ]
    }
   ],
   "source": [
    "def see_sample (row_num, vectorizer):\n",
    "    print ('User input for row [{0}]: '.format(row_num))\n",
    "    print (train['open_ended_1'][row_num])\n",
    "    \n",
    "    print ('\\nActual Score: ')\n",
    "    print (train['E_Scale_score'][row_num])\n",
    "    sample_test_data = vectorizer.transform([train['open_ended_1'][row_num]]) \n",
    "    rslt = clf.predict(sample_test_data)\n",
    "    \n",
    "    print ('\\nPredicted Score: ')\n",
    "    print (rslt[0])\n",
    "\n",
    "# To see results for a specific row, change this value to a row index\n",
    "test_row_index = random.randint(0, len(train['open_ended_1']))\n",
    "\n",
    "see_sample (test_row_index, vectorizer)"
   ]
  }
 ],
 "metadata": {
  "kernelspec": {
   "display_name": "Python 3",
   "language": "python",
   "name": "python3"
  },
  "language_info": {
   "codemirror_mode": {
    "name": "ipython",
    "version": 3
   },
   "file_extension": ".py",
   "mimetype": "text/x-python",
   "name": "python",
   "nbconvert_exporter": "python",
   "pygments_lexer": "ipython3",
   "version": "3.5.1"
  }
 },
 "nbformat": 4,
 "nbformat_minor": 2
}
