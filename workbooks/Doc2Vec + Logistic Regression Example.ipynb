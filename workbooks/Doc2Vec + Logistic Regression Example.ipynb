{
 "cells": [
  {
   "cell_type": "markdown",
   "metadata": {},
   "source": [
    "## Multi-Class Text Classification with Doc2Vec & Logistic Regression\n",
    "##### The goal is to classify consumer finance complaints into 12 pre-defined classes using Doc2Vec and Logistic Regression\n",
    "\n",
    "This example is an example posted in Towards Data Science, found here - https://towardsdatascience.com/multi-class-text-classification-with-doc2vec-logistic-regression-9da9947b43f4\n",
    "\n",
    "This example utilizes Doc2Vec to take freeform customer text and classify text into one of 12 distinct categories.  While the model ultimately used could be different, for example a linear or ridge regression approach, this notebook simply documents that process and replicates it\n",
    "\n",
    "It is worth noting that the dataset used here is quite large, at 696.3mb  This file is not included in the repository here, but can be downloaded from https://catalog.data.gov/dataset/consumer-complaint-database if you wish to experiment with it.\n",
    "\n",
    "*Notice:* Running this locally with the file limited to 50,000 rows still takes approximately 15 minutes for the whole notebook to run on a MacBook Air with a 2.2 GHz processor and 8GB of memory.  Be aware that running the entire training set can take a moment, and plan accordingly."
   ]
  },
  {
   "cell_type": "code",
   "execution_count": 26,
   "metadata": {},
   "outputs": [],
   "source": [
    "import numpy as np\n",
    "import pandas as pd\n",
    "from tqdm import tqdm\n",
    "tqdm.pandas(desc=\"progress-bar\")\n",
    "\n",
    "# We'll need these for text processing\n",
    "import bs4\n",
    "from bs4 import BeautifulSoup\n",
    "import nltk\n",
    "from nltk.corpus import stopwords\n",
    "\n",
    "# If you intend to run this locally, you'll need the punkt tokenizer.  \n",
    "# Uncomment this for the first run you do\n",
    "# nltk.download('punkt')\n",
    "\n",
    "import multiprocessing\n",
    "\n",
    "import gensim\n",
    "from gensim.models import Doc2Vec\n",
    "from gensim.models.doc2vec import TaggedDocument\n",
    "\n",
    "from sklearn import utils\n",
    "from sklearn.model_selection import train_test_split\n",
    "from sklearn.linear_model import LogisticRegression\n",
    "from sklearn.metrics import accuracy_score, f1_score\n",
    "\n",
    "import re\n",
    "import seaborn as sns\n",
    "import matplotlib.pyplot as plt\n"
   ]
  },
  {
   "cell_type": "markdown",
   "metadata": {},
   "source": [
    "Now that we've got our libraries imported, let's pull in the data.  If you needed to download the data, be sure to move it to the correct relative past for `pd.read_csv()`   Depending on the machine you're running this on, this cell may take a little while as the dataset is quite large."
   ]
  },
  {
   "cell_type": "code",
   "execution_count": 18,
   "metadata": {},
   "outputs": [
    {
     "name": "stderr",
     "output_type": "stream",
     "text": [
      "/Users/romanrheingans-carrion/Documents/siop_ml/siop/lib/python3.5/site-packages/IPython/core/interactiveshell.py:3020: DtypeWarning: Columns (4) have mixed types. Specify dtype option on import or set low_memory=False.\n",
      "  interactivity=interactivity, compiler=compiler, result=result)\n"
     ]
    },
    {
     "data": {
      "text/html": [
       "<div>\n",
       "<style scoped>\n",
       "    .dataframe tbody tr th:only-of-type {\n",
       "        vertical-align: middle;\n",
       "    }\n",
       "\n",
       "    .dataframe tbody tr th {\n",
       "        vertical-align: top;\n",
       "    }\n",
       "\n",
       "    .dataframe thead th {\n",
       "        text-align: right;\n",
       "    }\n",
       "</style>\n",
       "<table border=\"1\" class=\"dataframe\">\n",
       "  <thead>\n",
       "    <tr style=\"text-align: right;\">\n",
       "      <th></th>\n",
       "      <th>narrative</th>\n",
       "      <th>Product</th>\n",
       "    </tr>\n",
       "  </thead>\n",
       "  <tbody>\n",
       "    <tr>\n",
       "      <th>561</th>\n",
       "      <td>XXXX has been non-compliant with removing the ...</td>\n",
       "      <td>Credit reporting, credit repair services, or o...</td>\n",
       "    </tr>\n",
       "    <tr>\n",
       "      <th>806</th>\n",
       "      <td>In XX/XX/2012 there was a XXXX card opened und...</td>\n",
       "      <td>Credit reporting, credit repair services, or o...</td>\n",
       "    </tr>\n",
       "    <tr>\n",
       "      <th>910</th>\n",
       "      <td>The Family Support Service Department has put ...</td>\n",
       "      <td>Credit reporting, credit repair services, or o...</td>\n",
       "    </tr>\n",
       "    <tr>\n",
       "      <th>925</th>\n",
       "      <td>The Family Support Service Department has put ...</td>\n",
       "      <td>Credit reporting, credit repair services, or o...</td>\n",
       "    </tr>\n",
       "    <tr>\n",
       "      <th>936</th>\n",
       "      <td>In XX/XX/2019, I sent a debt validation letter...</td>\n",
       "      <td>Debt collection</td>\n",
       "    </tr>\n",
       "  </tbody>\n",
       "</table>\n",
       "</div>"
      ],
      "text/plain": [
       "                                             narrative  \\\n",
       "561  XXXX has been non-compliant with removing the ...   \n",
       "806  In XX/XX/2012 there was a XXXX card opened und...   \n",
       "910  The Family Support Service Department has put ...   \n",
       "925  The Family Support Service Department has put ...   \n",
       "936  In XX/XX/2019, I sent a debt validation letter...   \n",
       "\n",
       "                                               Product  \n",
       "561  Credit reporting, credit repair services, or o...  \n",
       "806  Credit reporting, credit repair services, or o...  \n",
       "910  Credit reporting, credit repair services, or o...  \n",
       "925  Credit reporting, credit repair services, or o...  \n",
       "936                                    Debt collection  "
      ]
     },
     "execution_count": 18,
     "metadata": {},
     "output_type": "execute_result"
    }
   ],
   "source": [
    "# Check that this filepath is correct - point it to the local copy of the dataset\n",
    "\n",
    "df = pd.read_csv('data/example_sets/large_data/Consumer_Complaints.csv',\n",
    "                 \n",
    "    # Specify datatypes for efficiency\n",
    "    dtype={\"Date received\": str, \n",
    "           \"Product\": str, \n",
    "           \"Sub-product\": str, \n",
    "           \"Consumer complaint narrative\": str, \n",
    "           \"Company public response\": str, \n",
    "           \"State\": str, \n",
    "           \"ZIP code\": str, \n",
    "           \"Tags\": str, \n",
    "           \"Consumer consent provided?\": str, \n",
    "           \"Submitted via\": str, \n",
    "           \"Date sent to company\": str, \n",
    "           \"Timely response?\": str, \n",
    "           \"Consumer disputed?\": str, \n",
    "           \"Complaint ID\": int})\n",
    "\n",
    "# Select the subset of narrative and product only\n",
    "df = df[['Consumer complaint narrative','Product']]\n",
    "\n",
    "# Select the non-null rows of that dataframe\n",
    "df = df[pd.notnull(df['Consumer complaint narrative'])]\n",
    "\n",
    "# For testing and easy runtime, we're going to pare this down to the first 50,000 rows\n",
    "df = df[:50000]\n",
    "\n",
    "# Rename the columns to a simpler column title\n",
    "df.rename(columns = {'Consumer complaint narrative':'narrative'}, inplace = True)\n",
    "\n",
    "# Preview it to make sure we're getting the right stuff\n",
    "df.head(5)"
   ]
  },
  {
   "cell_type": "code",
   "execution_count": 19,
   "metadata": {},
   "outputs": [
    {
     "name": "stdout",
     "output_type": "stream",
     "text": [
      "(50000, 2)\n"
     ]
    }
   ],
   "source": [
    "# Ensure that removing null rows hasn't messed us up\n",
    "number_of_rows = df.shape\n",
    "\n",
    "print(number_of_rows)"
   ]
  },
  {
   "cell_type": "code",
   "execution_count": 20,
   "metadata": {},
   "outputs": [
    {
     "data": {
      "text/plain": [
       "9837498"
      ]
     },
     "execution_count": 20,
     "metadata": {},
     "output_type": "execute_result"
    }
   ],
   "source": [
    "# The example provided has this value hard coded, but let's use the output of that function instead\n",
    "df.index = range(number_of_rows[0])\n",
    "\n",
    "# Let's see how many words there are by splitting the entire set and summing the number of words\n",
    "df['narrative'].apply(lambda x: len(x.split(' '))).sum()"
   ]
  },
  {
   "cell_type": "code",
   "execution_count": 21,
   "metadata": {},
   "outputs": [
    {
     "data": {
      "image/png": "[encoded data removed]",
      "text/plain": [
       "<Figure size 864x288 with 1 Axes>"
      ]
     },
     "metadata": {
      "needs_background": "light"
     },
     "output_type": "display_data"
    }
   ],
   "source": [
    "# Chart wizardry.  No need to fuss with this, but this section sets the details of the chart below\n",
    "cnt_pro = df['Product'].value_counts()\n",
    "plt.figure(figsize=(12,4))\n",
    "sns.barplot(cnt_pro.index, cnt_pro.values, alpha=0.8)\n",
    "plt.ylabel('Number of Occurrences', fontsize=12)\n",
    "plt.xlabel('Product', fontsize=12)\n",
    "plt.xticks(rotation=90)\n",
    "\n",
    "# Actually show the chart\n",
    "plt.show();"
   ]
  },
  {
   "cell_type": "markdown",
   "metadata": {},
   "source": [
    "As the article notes, the stark imbalance of classes here could cause trouble for a model."
   ]
  },
  {
   "cell_type": "code",
   "execution_count": 22,
   "metadata": {},
   "outputs": [
    {
     "name": "stdout",
     "output_type": "stream",
     "text": [
      "I am a victim of Identity theft/fraud. \n",
      "I have notified this collection company/original creditor several times that the account does not belong to me, I have not in any way received goods or services from this company and I have provided my police reports, my FTC id theft AFFIDAVIT signed and notarized along with my sworn statement regarding the fraudulent account. \n",
      "documents submitted to XXXX XXXX XXXX, XXXX XXXX, XXXX XXXX, XXXX XXXX XXXX, XXXX XXXX, XXXX, TRANSUNION AND XXXX  XX/XX/2018, includes affidavit, police report, sworn statement w/ signed signature receipt XX/XX/2018, includes affidavit, police report, sworn statement w/ signed signature receipt XX/XX/2018, includes affidavit, police report, sworn statement w/ signed signature receipt This company is in violation of the FCRA. XXXX XXXX XXXX, XXXX XXXX, XXXX XXXX, XXXX XXXX XXXX, XXXX XXXX XXXX, TRANSUNION AND XXXX   continue to report this fraudulent account on my credit report although I have provided these documents with no response from the company or any representatives. \n",
      "\n",
      "This account must be removed immediately, as it is in clear violation of the FCRA.\n",
      "Product: Credit reporting, credit repair services, or other personal consumer reports\n"
     ]
    }
   ],
   "source": [
    "def print_complaint(index):\n",
    "    example = df[df.index == index][['narrative', 'Product']].values[0]\n",
    "    if len(example) > 0:\n",
    "        print(example[0])\n",
    "        print('Product:', example[1])\n",
    "        \n",
    "print_complaint(12)"
   ]
  },
  {
   "cell_type": "markdown",
   "metadata": {},
   "source": [
    "\n",
    "## Text Processing\n",
    "\n",
    "\n",
    "In order to ensure that we're not training on unimportant aspects of the text, we'll want to prepare it somewhat.  Things like converting all links into a standard format with `<URL>` so that the model doesn't read into all of the different URL's as meaningful."
   ]
  },
  {
   "cell_type": "code",
   "execution_count": 23,
   "metadata": {},
   "outputs": [],
   "source": [
    "def cleanText(text):\n",
    "    text = BeautifulSoup(text, \"lxml\").text\n",
    "    text = re.sub(r'\\|\\|\\|', r' ', text) \n",
    "    text = re.sub(r'http\\S+', r'<URL>', text)\n",
    "    text = text.lower()\n",
    "    text = text.replace('x', '')\n",
    "    return text\n",
    "\n",
    "# Re-assign the narrative column to itself after applyign the cleanText function\n",
    "df['narrative'] = df['narrative'].apply(cleanText)"
   ]
  },
  {
   "cell_type": "markdown",
   "metadata": {},
   "source": [
    "While preparing the text is a good thing to do now, we're at the point where we are ready to start trying to convert the text into trainable features, and for this, we'll want to be able to test out of the main dataset so that we can actually determine how effective the model is."
   ]
  },
  {
   "cell_type": "code",
   "execution_count": 24,
   "metadata": {},
   "outputs": [],
   "source": [
    "# Generate our testing and training sets.  Of course, random is 42\n",
    "train, test = train_test_split(df, test_size=0.3, random_state=42)"
   ]
  },
  {
   "cell_type": "markdown",
   "metadata": {},
   "source": [
    "Tokenization is the process of turning each sentence in our dataset into a stand alone token.  We are able to determine words and their distinct meaning naturally, however for a machine to understand what the smallest unit of meaning is, we'll need to translate them into meaningful tokens for training.\n",
    "\n",
    "There are a number of different approaches and techniques to tokenization, however for this example we're using the basic function with NLTK's `word_tokenize()` and the standard stopword library.  The example provided by TDS does not actually call this libary however we could do this by adding `stopwords=english` or pointing it to a customized list of relevant stopwords."
   ]
  },
  {
   "cell_type": "code",
   "execution_count": 25,
   "metadata": {},
   "outputs": [],
   "source": [
    "# Create our function that will tokenize each row\n",
    "def tokenize_text(text):\n",
    "    tokens = []\n",
    "    for sent in nltk.sent_tokenize(text):\n",
    "        for word in nltk.word_tokenize(sent):\n",
    "            if len(word) < 2:\n",
    "                continue\n",
    "            tokens.append(word.lower())\n",
    "    return tokens\n",
    "\n",
    "# We'll want to run the same tokenization process on our training and test sets.  This may take a minute.\n",
    "\n",
    "train_tagged = train.apply(\n",
    "    lambda r: TaggedDocument(words=tokenize_text(r['narrative']), tags=[r.Product]), axis=1)\n",
    "\n",
    "test_tagged = test.apply(\n",
    "    lambda r: TaggedDocument(words=tokenize_text(r['narrative']), tags=[r.Product]), axis=1)"
   ]
  },
  {
   "cell_type": "markdown",
   "metadata": {},
   "source": [
    "\n",
    "## Training the Model\n",
    "\n",
    "Up to this point we've been doing data preparation and now that the words are split up, we'll want to start vectorizing them.  This will convert the strings themselves into a vectors, which can have other interesting spatial conversions applied to them."
   ]
  },
  {
   "cell_type": "code",
   "execution_count": 27,
   "metadata": {},
   "outputs": [
    {
     "name": "stderr",
     "output_type": "stream",
     "text": [
      "100%|██████████| 35000/35000 [00:00<00:00, 1738705.45it/s]\n"
     ]
    }
   ],
   "source": [
    "# Set the number of cores available for parallel processing.  \n",
    "cores = multiprocessing.cpu_count()\n",
    "\n",
    "model_dbow = Doc2Vec(\n",
    "    dm=0, \n",
    "    vector_size=300, \n",
    "    negative=5, \n",
    "    hs=0, \n",
    "    min_count=2, \n",
    "    sample = 0, \n",
    "    workers=cores)\n",
    "\n",
    "model_dbow.build_vocab([x for x in tqdm(train_tagged.values)])"
   ]
  },
  {
   "cell_type": "markdown",
   "metadata": {},
   "source": [
    "During this phase, "
   ]
  },
  {
   "cell_type": "code",
   "execution_count": 31,
   "metadata": {},
   "outputs": [
    {
     "name": "stderr",
     "output_type": "stream",
     "text": [
      "100%|██████████| 35000/35000 [00:00<00:00, 1156602.69it/s]\n"
     ]
    }
   ],
   "source": [
    "model_dmm = Doc2Vec(dm=1, dm_mean=1, vector_size=300, window=10, negative=5, min_count=1, workers=5, alpha=0.065, min_alpha=0.065)\n",
    "model_dmm.build_vocab([x for x in tqdm(train_tagged.values)])\n"
   ]
  },
  {
   "cell_type": "code",
   "execution_count": 32,
   "metadata": {},
   "outputs": [
    {
     "name": "stderr",
     "output_type": "stream",
     "text": [
      "100%|██████████| 35000/35000 [00:00<00:00, 1682201.06it/s]\n",
      "100%|██████████| 35000/35000 [00:00<00:00, 2034066.87it/s]\n",
      "100%|██████████| 35000/35000 [00:00<00:00, 1553561.00it/s]\n",
      "100%|██████████| 35000/35000 [00:00<00:00, 2159277.50it/s]\n",
      "100%|██████████| 35000/35000 [00:00<00:00, 1991570.32it/s]\n",
      "100%|██████████| 35000/35000 [00:00<00:00, 1864277.15it/s]\n",
      "100%|██████████| 35000/35000 [00:00<00:00, 1916857.83it/s]\n",
      "100%|██████████| 35000/35000 [00:00<00:00, 1782881.02it/s]\n",
      "100%|██████████| 35000/35000 [00:00<00:00, 1947138.86it/s]\n",
      "100%|██████████| 35000/35000 [00:00<00:00, 2130138.72it/s]\n",
      "100%|██████████| 35000/35000 [00:00<00:00, 1909229.29it/s]\n",
      "100%|██████████| 35000/35000 [00:00<00:00, 1812823.57it/s]\n",
      "100%|██████████| 35000/35000 [00:00<00:00, 1710983.11it/s]\n",
      "100%|██████████| 35000/35000 [00:00<00:00, 1624044.61it/s]\n",
      "100%|██████████| 35000/35000 [00:00<00:00, 1529380.44it/s]\n",
      "100%|██████████| 35000/35000 [00:00<00:00, 2140543.88it/s]\n",
      "100%|██████████| 35000/35000 [00:00<00:00, 1925633.11it/s]\n",
      "100%|██████████| 35000/35000 [00:00<00:00, 1969711.66it/s]\n",
      "100%|██████████| 35000/35000 [00:00<00:00, 2086807.40it/s]\n",
      "100%|██████████| 35000/35000 [00:00<00:00, 1811414.33it/s]\n",
      "100%|██████████| 35000/35000 [00:00<00:00, 2083076.36it/s]\n",
      "100%|██████████| 35000/35000 [00:00<00:00, 1915707.16it/s]\n",
      "100%|██████████| 35000/35000 [00:00<00:00, 2179603.28it/s]\n",
      "100%|██████████| 35000/35000 [00:00<00:00, 1981650.11it/s]\n",
      "100%|██████████| 35000/35000 [00:00<00:00, 1610450.77it/s]\n",
      "100%|██████████| 35000/35000 [00:00<00:00, 2154903.41it/s]\n",
      "100%|██████████| 35000/35000 [00:00<00:00, 1844043.81it/s]\n",
      "100%|██████████| 35000/35000 [00:00<00:00, 1751588.59it/s]\n",
      "100%|██████████| 35000/35000 [00:00<00:00, 2024892.27it/s]\n",
      "100%|██████████| 35000/35000 [00:00<00:00, 1975144.50it/s]\n"
     ]
    },
    {
     "name": "stdout",
     "output_type": "stream",
     "text": [
      "CPU times: user 12min 38s, sys: 31.3 s, total: 13min 9s\n",
      "Wall time: 5min 9s\n"
     ]
    }
   ],
   "source": [
    "%%time\n",
    "for epoch in range(30):\n",
    "    model_dmm.train(utils.shuffle([x for x in tqdm(train_tagged.values)]), total_examples=len(train_tagged.values), epochs=1)\n",
    "    model_dmm.alpha -= 0.002\n",
    "    model_dmm.min_alpha = model_dmm.alpha"
   ]
  },
  {
   "cell_type": "code",
   "execution_count": 38,
   "metadata": {},
   "outputs": [],
   "source": [
    "def vec_for_learning(model, tagged_docs):\n",
    "    sents = tagged_docs.values\n",
    "    targets, regressors = zip(*[(doc.tags[0], model.infer_vector(doc.words, steps=20)) for doc in sents])\n",
    "    return targets, regressors\n"
   ]
  },
  {
   "cell_type": "code",
   "execution_count": 39,
   "metadata": {},
   "outputs": [
    {
     "name": "stderr",
     "output_type": "stream",
     "text": [
      "/Users/romanrheingans-carrion/Documents/siop_ml/siop/lib/python3.5/site-packages/sklearn/linear_model/logistic.py:433: FutureWarning: Default solver will be changed to 'lbfgs' in 0.22. Specify a solver to silence this warning.\n",
      "  FutureWarning)\n",
      "/Users/romanrheingans-carrion/Documents/siop_ml/siop/lib/python3.5/site-packages/sklearn/linear_model/logistic.py:460: FutureWarning: Default multi_class will be changed to 'auto' in 0.22. Specify the multi_class option to silence this warning.\n",
      "  \"this warning.\", FutureWarning)\n"
     ]
    },
    {
     "name": "stdout",
     "output_type": "stream",
     "text": [
      "Testing accuracy 0.4368\n",
      "Testing F1 score: 0.29509100235603763\n"
     ]
    },
    {
     "name": "stderr",
     "output_type": "stream",
     "text": [
      "/Users/romanrheingans-carrion/Documents/siop_ml/siop/lib/python3.5/site-packages/sklearn/metrics/classification.py:1143: UndefinedMetricWarning: F-score is ill-defined and being set to 0.0 in labels with no predicted samples.\n",
      "  'precision', 'predicted', average, warn_for)\n"
     ]
    }
   ],
   "source": [
    "y_train, X_train = vec_for_learning(model_dbow, train_tagged)\n",
    "y_test, X_test = vec_for_learning(model_dbow, test_tagged)\n",
    "logreg = LogisticRegression(n_jobs=1, C=1e5)\n",
    "logreg.fit(X_train, y_train)\n",
    "y_pred = logreg.predict(X_test)\n",
    "\n",
    "from sklearn.metrics import accuracy_score, f1_score\n",
    "\n",
    "print('Testing accuracy %s' % accuracy_score(y_test, y_pred))\n",
    "print('Testing F1 score: {}'.format(f1_score(y_test, y_pred, average='weighted')))"
   ]
  },
  {
   "cell_type": "code",
   "execution_count": null,
   "metadata": {},
   "outputs": [],
   "source": [
    "\n",
    "# logreg.predict()"
   ]
  }
 ],
 "metadata": {
  "kernelspec": {
   "display_name": "Python 3",
   "language": "python",
   "name": "python3"
  },
  "language_info": {
   "codemirror_mode": {
    "name": "ipython",
    "version": 3
   },
   "file_extension": ".py",
   "mimetype": "text/x-python",
   "name": "python",
   "nbconvert_exporter": "python",
   "pygments_lexer": "ipython3",
   "version": "3.5.1"
  }
 },
 "nbformat": 4,
 "nbformat_minor": 2
}
