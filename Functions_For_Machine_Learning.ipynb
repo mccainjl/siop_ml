{
 "cells": [
  {
   "cell_type": "code",
   "execution_count": 22,
   "metadata": {},
   "outputs": [],
   "source": [
    "import random\n",
    "import pandas as pd\n",
    "import numpy as np\n",
    "import scipy as sp\n",
    "import nltk\n",
    "import PyPDF2\n",
    "\n",
    "from sklearn.feature_extraction.text import TfidfVectorizer\n",
    "\n",
    "from sklearn.model_selection import train_test_split\n",
    "from sklearn.linear_model import Ridge"
   ]
  },
  {
   "cell_type": "markdown",
   "metadata": {},
   "source": [
    "The function below tags each text answer for the presence (1) or absence (0) of past tense words as classified by the nltk package.  Past tense is one of the many indices used in classic LIWC studies (e.g., Pennebaker & Francis, 1996/1999), which have been shown to significantly predict personality traits.  We cannot use the LIWC library here as it is not open access, but we can approximate it using the nltk package."
   ]
  },
  {
   "cell_type": "code",
   "execution_count": 84,
   "metadata": {},
   "outputs": [],
   "source": [
    "def pastTag(variable):\n",
    "    for row in variable:\n",
    "        if \"VBD\" or \"VBN\" in nltk.pos_tag(row):\n",
    "            past = 1\n",
    "        else:\n",
    "            past = 0\n",
    "        return past \n",
    "         "
   ]
  },
  {
   "cell_type": "markdown",
   "metadata": {},
   "source": [
    "The presentTag() function tags each text answer for the presence (0) or absence (1) of present tense words as classified by the nltk package.  Is is also an approximation to the LIWC measure of present tense.  Fewer present tense words have been found to be predictive of openness to experience."
   ]
  },
  {
   "cell_type": "code",
   "execution_count": 87,
   "metadata": {},
   "outputs": [],
   "source": [
    "def presentTag(variable):\n",
    "    for row in variable:\n",
    "        if \"VBG\" or \"VBP\" or \"VPZ\" in nltk.pos_tag(row):\n",
    "            present = 1\n",
    "        else:\n",
    "            present = 0\n",
    "        return present"
   ]
  },
  {
   "cell_type": "markdown",
   "metadata": {},
   "source": [
    "The wordLengths function measures the average word length of each text answer and then returns the percentage of words that have five or more letters.  Having a higher percentage of words greater than five letters long has been found to be a good predictor of openness to experience."
   ]
  },
  {
   "cell_type": "code",
   "execution_count": 61,
   "metadata": {},
   "outputs": [],
   "source": [
    "def wordLengths(variable):\n",
    "    for row in variable:\n",
    "        lengths = list(map(len,row.split()))\n",
    "        sumlengths = sum(i > 5 for i in lengths)\n",
    "        #print(sumlengths)\n",
    "        percentoverfive = sumlengths/len(row)*100\n",
    "        return percentoverfive"
   ]
  },
  {
   "cell_type": "markdown",
   "metadata": {},
   "source": [
    "Negative affect is another index known to predict traits such as neuroticism (positively) and extraversion, agreeableness, and conscientiousness (negatively). We chose to use a publicly available library "
   ]
  },
  {
   "cell_type": "code",
   "execution_count": 89,
   "metadata": {},
   "outputs": [],
   "source": [
    "file = open('LM_Negative.pdf', 'rb')\n",
    "\n",
    "# creating a pdf reader object\n",
    "fileReader = PyPDF2.PdfFileReader(file)\n",
    "pageObj = fileReader.getPage(0)\n",
    "page_content = pageObj.extractText()\n",
    "#print(page_content)"
   ]
  },
  {
   "cell_type": "code",
   "execution_count": 90,
   "metadata": {},
   "outputs": [],
   "source": [
    "negativewords = \"\"\n",
    "for page in range(fileReader.numPages):\n",
    "    pageObj = fileReader.getPage(page)\n",
    "    page_content = pageObj.extractText()\n",
    "    negativewords = negativewords + page_content\n",
    "#print(negativewords)\n",
    "negwords = negativewords.split()\n",
    "\n",
    "negwords = negwords[7:]"
   ]
  },
  {
   "cell_type": "markdown",
   "metadata": {},
   "source": [
    "Percentage of negative words: Ok, this one is not working either.  \"Negative\" seems not to be translating to the dataset correctly.  Any way you could check it out to see what's wrong?"
   ]
  },
  {
   "cell_type": "code",
   "execution_count": 79,
   "metadata": {},
   "outputs": [],
   "source": [
    "def negAffect(variable):\n",
    "    for row in variable:\n",
    "        negative = 0\n",
    "        words = row.split()\n",
    "        for word in words:\n",
    "            if word.upper() in negwords:\n",
    "                negative = negative + 1\n",
    "                print(negative)\n",
    "                percentnegative = negative/len(row)\n",
    "                return percentnegative\n",
    "        return percentnegative"
   ]
  }
 ],
 "metadata": {
  "kernelspec": {
   "display_name": "Python 3",
   "language": "python",
   "name": "python3"
  },
  "language_info": {
   "codemirror_mode": {
    "name": "ipython",
    "version": 3
   },
   "file_extension": ".py",
   "mimetype": "text/x-python",
   "name": "python",
   "nbconvert_exporter": "python",
   "pygments_lexer": "ipython3",
   "version": "3.7.1"
  }
 },
 "nbformat": 4,
 "nbformat_minor": 2
}
